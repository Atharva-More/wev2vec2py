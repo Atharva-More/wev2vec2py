{
  "metadata": {
    "kernelspec": {
      "display_name": "Python 3",
      "name": "python3"
    },
    "language_info": {
      "name": "python",
      "version": "3.10.14",
      "mimetype": "text/x-python",
      "codemirror_mode": {
        "name": "ipython",
        "version": 3
      },
      "pygments_lexer": "ipython3",
      "nbconvert_exporter": "python",
      "file_extension": ".py"
    },
    "kaggle": {
      "accelerator": "none",
      "dataSources": [],
      "dockerImageVersionId": 30775,
      "isInternetEnabled": false,
      "language": "python",
      "sourceType": "notebook",
      "isGpuEnabled": false
    },
    "colab": {
      "provenance": [],
      "gpuType": "T4"
    },
    "accelerator": "GPU"
  },
  "nbformat_minor": 0,
  "nbformat": 4,
  "cells": [
    {
      "cell_type": "code",
      "source": [
        "!pip install gtts pydub\n",
        "from gtts import gTTS\n",
        "from pydub import AudioSegment\n",
        "from pydub.playback import play\n",
        "\n",
        "# Define the script for each speaker\n",
        "script = {\n",
        "    \"Alex\": [\n",
        "        \"Hey Jordan, thanks for taking the time to meet. I wanted to tell you about our new programming course. It’s a comprehensive course designed for all skill levels, from beginners to advanced programmers. Are you interested in learning more?\",\n",
        "        \"Absolutely! The course runs for 12 weeks and covers a range of subjects, including Python, JavaScript, and web development. Each week, there are 3 live sessions and 2 hands-on coding labs. You’ll also get access to recorded sessions in case you miss anything.\",\n",
        "        \"The full course is priced at 999 dollars, but we currently have an early-bird discount running, so you can get it for 799 dollars if you sign up before the end of the month.\",\n",
        "        \"Good point. We keep the batch size small—around 20 students per batch—so you get more one-on-one time with the instructors and personalized guidance.\",\n",
        "        \"In addition to those, we dive into data structures, algorithms, database management, and even API development. There’s also a project week where you’ll build a full-stack application.\",\n",
        "        \"Yes, you’ll receive a certificate of completion at the end of the course, which you can add to your portfolio. Plus, we offer job placement assistance once you finish.\",\n",
        "        \"Until the end of this month. After that, the price goes back to 999 dollars. So if you’re interested, now’s the best time to sign up!\",\n",
        "        \"No problem at all! I’ll send over the details via email. Let me know if you have any other questions.\"\n",
        "    ],\n",
        "    \"Jordan\": [\n",
        "        \"Definitely! I'm actually looking to enhance my skills. Can you tell me about the key features of the course?\",\n",
        "        \"That sounds great! What’s the price?\",\n",
        "        \"Oh, nice! What about batch sizes? I prefer smaller groups for better interaction.\",\n",
        "        \"What subjects are covered, apart from Python and JavaScript?\",\n",
        "        \"That’s impressive. Does the course offer any certification?\",\n",
        "        \"Awesome. And the discount—you said it’s available until when?\",\n",
        "        \"I’ll definitely think about it. This seems like a great opportunity. Thanks for all the info, Alex!\"\n",
        "    ]\n",
        "}\n",
        "\n",
        "# Function to convert text to speech using gTTS and save as an audio file\n",
        "def text_to_speech(text, file_name):\n",
        "    tts = gTTS(text=text, lang='en')\n",
        "    tts.save(file_name)\n",
        "\n",
        "# Generate audio for Alex\n",
        "alex_audio = []\n",
        "for idx, line in enumerate(script[\"Alex\"]):\n",
        "    file_name = f\"alex_line_{idx}.mp3\"\n",
        "    text_to_speech(line, file_name)\n",
        "    alex_audio.append(AudioSegment.from_mp3(file_name))\n",
        "\n",
        "# Generate audio for Jordan\n",
        "jordan_audio = []\n",
        "for idx, line in enumerate(script[\"Jordan\"]):\n",
        "    file_name = f\"jordan_line_{idx}.mp3\"\n",
        "    text_to_speech(line, file_name)\n",
        "    jordan_audio.append(AudioSegment.from_mp3(file_name))\n",
        "\n",
        "# Combine the audio in a conversation flow\n",
        "conversation = AudioSegment.silent(duration=500)  # Start with a short pause\n",
        "for i in range(len(alex_audio)):\n",
        "    conversation += alex_audio[i] + AudioSegment.silent(duration=500)\n",
        "    if i < len(jordan_audio):\n",
        "        conversation += jordan_audio[i] + AudioSegment.silent(duration=500)\n",
        "\n",
        "# Save the combined conversation to a single file\n",
        "conversation.export(\"conversation.mp3\", format=\"mp3\")\n",
        "\n",
        "# Optionally, play the final conversation\n",
        "play(conversation)\n",
        "\n",
        "print(\"Conversation audio has been generated and saved as 'conversation.mp3'.\")\n"
      ],
      "metadata": {
        "_uuid": "8f2839f25d086af736a60e9eeb907d3b93b6e0e5",
        "_cell_guid": "b1076dfc-b9ad-4769-8c92-a6c4dae69d19",
        "execution": {
          "iopub.status.busy": "2024-09-28T19:30:33.556776Z",
          "iopub.status.idle": "2024-09-28T19:30:33.557214Z",
          "shell.execute_reply.started": "2024-09-28T19:30:33.557Z",
          "shell.execute_reply": "2024-09-28T19:30:33.55702Z"
        },
        "trusted": true,
        "id": "bXEZZlLSHXj5",
        "outputId": "733f6026-071b-416a-cd29-f7dca37e7a47",
        "colab": {
          "base_uri": "https://localhost:8080/"
        }
      },
      "execution_count": null,
      "outputs": [
        {
          "output_type": "stream",
          "name": "stdout",
          "text": [
            "Collecting gtts\n",
            "  Downloading gTTS-2.5.3-py3-none-any.whl.metadata (4.1 kB)\n",
            "Collecting pydub\n",
            "  Downloading pydub-0.25.1-py2.py3-none-any.whl.metadata (1.4 kB)\n",
            "Requirement already satisfied: requests<3,>=2.27 in /usr/local/lib/python3.10/dist-packages (from gtts) (2.32.3)\n",
            "Requirement already satisfied: click<8.2,>=7.1 in /usr/local/lib/python3.10/dist-packages (from gtts) (8.1.7)\n",
            "Requirement already satisfied: charset-normalizer<4,>=2 in /usr/local/lib/python3.10/dist-packages (from requests<3,>=2.27->gtts) (3.3.2)\n",
            "Requirement already satisfied: idna<4,>=2.5 in /usr/local/lib/python3.10/dist-packages (from requests<3,>=2.27->gtts) (3.10)\n",
            "Requirement already satisfied: urllib3<3,>=1.21.1 in /usr/local/lib/python3.10/dist-packages (from requests<3,>=2.27->gtts) (2.2.3)\n",
            "Requirement already satisfied: certifi>=2017.4.17 in /usr/local/lib/python3.10/dist-packages (from requests<3,>=2.27->gtts) (2024.8.30)\n",
            "Downloading gTTS-2.5.3-py3-none-any.whl (29 kB)\n",
            "Downloading pydub-0.25.1-py2.py3-none-any.whl (32 kB)\n",
            "Installing collected packages: pydub, gtts\n",
            "Successfully installed gtts-2.5.3 pydub-0.25.1\n",
            "Conversation audio has been generated and saved as 'conversation.mp3'.\n"
          ]
        }
      ]
    },
    {
      "cell_type": "markdown",
      "source": [
        "# New Section"
      ],
      "metadata": {
        "id": "zPKYXVcUTGFS"
      }
    },
    {
      "cell_type": "markdown",
      "source": [
        "# New Section"
      ],
      "metadata": {
        "id": "P3zFqaxnRDXk"
      }
    },
    {
      "cell_type": "code",
      "source": [
        "play(conversation)"
      ],
      "metadata": {
        "id": "vtc9qeH1HXkC"
      },
      "execution_count": null,
      "outputs": []
    },
    {
      "cell_type": "code",
      "source": [
        "from pydub import AudioSegment\n",
        "\n",
        "# Load the MP3 file\n",
        "audio = AudioSegment.from_mp3(\"conversation.mp3\")\n",
        "\n",
        "# Get basic information about the audio file\n",
        "duration_in_ms = len(audio)  # Duration of the audio in milliseconds\n",
        "channels = audio.channels  # Number of channels (1 for mono, 2 for stereo)\n",
        "frame_rate = audio.frame_rate  # Sample rate of the audio\n",
        "\n",
        "# Print information about the audio\n",
        "print(f\"Duration: {duration_in_ms / 1000} seconds\")\n",
        "print(f\"Channels: {channels}\")\n",
        "print(f\"Frame rate: {frame_rate} Hz\")\n",
        "\n",
        "# Export a portion of the audio, for example, the first 10 seconds\n",
        "first_10_seconds = audio[:10000]\n",
        "first_10_seconds.export(\"first_10_seconds.mp3\", format=\"mp3\")"
      ],
      "metadata": {
        "id": "kwnR0w9iHyF8",
        "outputId": "dc7d7d1d-4163-4c4d-b008-721b27abea95",
        "colab": {
          "base_uri": "https://localhost:8080/"
        }
      },
      "execution_count": null,
      "outputs": [
        {
          "output_type": "stream",
          "name": "stdout",
          "text": [
            "Duration: 163.998 seconds\n",
            "Channels: 1\n",
            "Frame rate: 24000 Hz\n"
          ]
        },
        {
          "output_type": "execute_result",
          "data": {
            "text/plain": [
              "<_io.BufferedRandom name='first_10_seconds.mp3'>"
            ]
          },
          "metadata": {},
          "execution_count": 3
        }
      ]
    },
    {
      "cell_type": "code",
      "source": [
        "pip install nltk\n"
      ],
      "metadata": {
        "id": "g-N2_oV4JHnH",
        "colab": {
          "base_uri": "https://localhost:8080/"
        },
        "outputId": "9b7f70e2-0bdd-44c2-ae63-3f62739a13a7"
      },
      "execution_count": null,
      "outputs": [
        {
          "output_type": "stream",
          "name": "stdout",
          "text": [
            "Requirement already satisfied: nltk in /usr/local/lib/python3.10/dist-packages (3.8.1)\n",
            "Requirement already satisfied: click in /usr/local/lib/python3.10/dist-packages (from nltk) (8.1.7)\n",
            "Requirement already satisfied: joblib in /usr/local/lib/python3.10/dist-packages (from nltk) (1.4.2)\n",
            "Requirement already satisfied: regex>=2021.8.3 in /usr/local/lib/python3.10/dist-packages (from nltk) (2024.9.11)\n",
            "Requirement already satisfied: tqdm in /usr/local/lib/python3.10/dist-packages (from nltk) (4.66.5)\n"
          ]
        }
      ]
    },
    {
      "cell_type": "code",
      "source": [],
      "metadata": {
        "id": "62UmStdW3k5O"
      },
      "execution_count": null,
      "outputs": []
    },
    {
      "cell_type": "markdown",
      "source": [
        "QUERY HANDLING\n"
      ],
      "metadata": {
        "id": "zVWtrQS53mrt"
      }
    },
    {
      "cell_type": "code",
      "source": [],
      "metadata": {
        "id": "xJTD44SlS6SW"
      },
      "execution_count": null,
      "outputs": []
    },
    {
      "cell_type": "code",
      "source": [
        "import csv\n",
        "import nltk\n",
        "from sklearn.feature_extraction.text import CountVectorizer\n",
        "from sklearn.metrics.pairwise import cosine_similarity\n",
        "import numpy as np\n",
        "\n",
        "# Ensure necessary NLTK data is downloaded\n",
        "nltk.download('punkt')\n",
        "\n",
        "# Load FAQ dataset from CSV\n",
        "def load_faq_from_csv(csv_file_path):\n",
        "    faq_data = {}\n",
        "    with open(csv_file_path, mode='r') as file:\n",
        "        csv_reader = csv.reader(file)\n",
        "        next(csv_reader)  # Skip the header row\n",
        "        for row in csv_reader:\n",
        "            question, answer = row[1], row[2]\n",
        "            faq_data[question] = answer\n",
        "    return faq_data\n",
        "\n",
        "# Preprocess and tokenize the input\n",
        "def preprocess_input(user_input):\n",
        "    return nltk.word_tokenize(user_input.lower())\n",
        "\n",
        "# Respond to user input\n",
        "def get_response(user_input, faq_data):\n",
        "    questions = list(faq_data.keys())\n",
        "    responses = list(faq_data.values())\n",
        "\n",
        "    # Add user input to the list of questions for comparison\n",
        "    user_input = [user_input]\n",
        "\n",
        "    # Use CountVectorizer to convert text data into a matrix of token counts\n",
        "    vectorizer = CountVectorizer().fit_transform(questions + user_input)\n",
        "    vectors = vectorizer.toarray()\n",
        "\n",
        "    # Calculate cosine similarity between user input and all FAQ questions\n",
        "    cosine_matrix = cosine_similarity(vectors)\n",
        "\n",
        "    # Get the cosine similarity scores for the user's input\n",
        "    user_vector = cosine_matrix[-1][:-1]\n",
        "\n",
        "    # Find the index of the most similar question\n",
        "    most_similar_idx = np.argmax(user_vector)\n",
        "\n",
        "    # Get the best match based on cosine similarity\n",
        "    similarity_score = user_vector[most_similar_idx]\n",
        "\n",
        "    if similarity_score > 0.5:  # Threshold for similarity\n",
        "        return responses[most_similar_idx]\n",
        "    else:\n",
        "        return \"I'm sorry, I don't have information about that. Could you please rephrase?\"\n",
        "\n",
        "# Main loop for bot interaction\n",
        "def customer_support_bot(faq_data):\n",
        "    print(\"Customer Support Bot: Hello! How can I assist you today?\")\n",
        "\n",
        "    while True:\n",
        "        user_input = input(\"You: \")\n",
        "        if user_input.lower() in [\"exit\", \"quit\", \"bye\"]:\n",
        "            print(\"Customer Support Bot: Thank you for using our service. Have a great day!\")\n",
        "            break\n",
        "\n",
        "        response = get_response(user_input, faq_data)\n",
        "        print(f\"Customer Support Bot: {response}\")\n",
        "\n",
        "# Run the customer support bot\n",
        "if __name__ == \"__main__\":\n",
        "    # Load FAQ data from CSV file\n",
        "    csv_file_path = 'faq_dataset.csv'  # Specify the path to your CSV file\n",
        "    faq_data = load_faq_from_csv(csv_file_path)\n",
        "\n",
        "    # Start the customer support bot\n",
        "    customer_support_bot(faq_data)\n"
      ],
      "metadata": {
        "colab": {
          "base_uri": "https://localhost:8080/"
        },
        "id": "1I8r4xoMTOmS",
        "outputId": "012c03ef-8a1e-47fa-9bd2-d77145004cff"
      },
      "execution_count": null,
      "outputs": [
        {
          "output_type": "stream",
          "name": "stderr",
          "text": [
            "[nltk_data] Downloading package punkt to /root/nltk_data...\n",
            "[nltk_data]   Package punkt is already up-to-date!\n"
          ]
        },
        {
          "output_type": "stream",
          "name": "stdout",
          "text": [
            "Customer Support Bot: Hello! How can I assist you today?\n",
            "You: how can i reset my password\n",
            "Customer Support Bot: To reset your password, go to the login page and click on 'Forgot Password.' Follow the instructions sent to your registered email to reset your password.\n",
            "You: exit\n",
            "Customer Support Bot: Thank you for using our service. Have a great day!\n"
          ]
        }
      ]
    },
    {
      "cell_type": "code",
      "source": [],
      "metadata": {
        "id": "OQ5qIXFuTuKD"
      },
      "execution_count": null,
      "outputs": []
    },
    {
      "cell_type": "code",
      "source": [],
      "metadata": {
        "id": "UghhNqkDh0Zy"
      },
      "execution_count": null,
      "outputs": []
    },
    {
      "cell_type": "code",
      "source": [],
      "metadata": {
        "id": "8Uvupg91iglK"
      },
      "execution_count": null,
      "outputs": []
    },
    {
      "cell_type": "code",
      "source": [],
      "metadata": {
        "id": "WlbVZ0QXiwnc"
      },
      "execution_count": null,
      "outputs": []
    }
  ]
}