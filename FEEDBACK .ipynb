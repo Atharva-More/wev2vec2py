{
 "cells": [
  {
   "cell_type": "code",
   "execution_count": 1,
   "id": "33bfec48",
   "metadata": {},
   "outputs": [
    {
     "name": "stdout",
     "output_type": "stream",
     "text": [
      "Collecting vaderSentiment\n",
      "  Downloading vaderSentiment-3.3.2-py2.py3-none-any.whl.metadata (572 bytes)\n",
      "Requirement already satisfied: requests in c:\\users\\morea\\anaconda3\\lib\\site-packages (from vaderSentiment) (2.31.0)\n",
      "Requirement already satisfied: charset-normalizer<4,>=2 in c:\\users\\morea\\anaconda3\\lib\\site-packages (from requests->vaderSentiment) (2.0.4)\n",
      "Requirement already satisfied: idna<4,>=2.5 in c:\\users\\morea\\anaconda3\\lib\\site-packages (from requests->vaderSentiment) (3.4)\n",
      "Requirement already satisfied: urllib3<3,>=1.21.1 in c:\\users\\morea\\anaconda3\\lib\\site-packages (from requests->vaderSentiment) (1.26.16)\n",
      "Requirement already satisfied: certifi>=2017.4.17 in c:\\users\\morea\\anaconda3\\lib\\site-packages (from requests->vaderSentiment) (2023.7.22)\n",
      "Downloading vaderSentiment-3.3.2-py2.py3-none-any.whl (125 kB)\n",
      "   ---------------------------------------- 0.0/126.0 kB ? eta -:--:--\n",
      "   ---------------------------------------- 126.0/126.0 kB 3.7 MB/s eta 0:00:00\n",
      "Installing collected packages: vaderSentiment\n",
      "Successfully installed vaderSentiment-3.3.2\n"
     ]
    },
    {
     "name": "stderr",
     "output_type": "stream",
     "text": [
      "\n",
      "[notice] A new release of pip is available: 23.3.2 -> 24.2\n",
      "[notice] To update, run: python.exe -m pip install --upgrade pip\n"
     ]
    },
    {
     "name": "stdout",
     "output_type": "stream",
     "text": [
      "Enter your name (or type 'exit' to finish): Abhijit\n",
      "Please provide your feedback: bad\n",
      "Enter your name (or type 'exit' to finish): inge\n",
      "Please provide your feedback: good\n",
      "Enter your name (or type 'exit' to finish): exit\n",
      "Feedback collected and categorized as Positive, Neutral, or Negative, saved to 'feedback_report.csv'\n"
     ]
    }
   ],
   "source": [
    "!pip install vaderSentiment\n",
    "import pandas as pd\n",
    "from vaderSentiment.vaderSentiment import SentimentIntensityAnalyzer\n",
    "\n",
    "# Function to analyze sentiment and categorize as Positive, Neutral, or Negative\n",
    "def analyze_sentiment(feedback):\n",
    "    analyzer = SentimentIntensityAnalyzer()\n",
    "    score = analyzer.polarity_scores(feedback)\n",
    "    \n",
    "    # Categorize based on the compound score\n",
    "    if score['compound'] > 0.05:\n",
    "        sentiment = 'Positive'\n",
    "    elif score['compound'] < -0.05:\n",
    "        sentiment = 'Negative'\n",
    "    else:\n",
    "        sentiment = 'Neutral'\n",
    "    \n",
    "    return score['compound'], sentiment\n",
    "\n",
    "# Initialize feedback data list\n",
    "feedback_data = []\n",
    "\n",
    "# Collect user feedback until they type 'exit'\n",
    "while True:\n",
    "    customer_name = input(\"Enter your name (or type 'exit' to finish): \")\n",
    "    if customer_name.lower() == 'exit':\n",
    "        break\n",
    "    feedback = input(\"Please provide your feedback: \")\n",
    "\n",
    "    # Analyze sentiment and store the result\n",
    "    sentiment_score, sentiment_category = analyze_sentiment(feedback)\n",
    "    feedback_data.append({\n",
    "        \"customer\": customer_name, \n",
    "        \"feedback\": feedback, \n",
    "        \"sentiment_score\": sentiment_score,\n",
    "        \"category\": sentiment_category\n",
    "    })\n",
    "\n",
    "# Convert to DataFrame and export to CSV\n",
    "df = pd.DataFrame(feedback_data)\n",
    "df.to_csv('feedback_report.csv', index=False)\n",
    "\n",
    "print(\"Feedback collected and categorized as Positive, Neutral, or Negative, saved to 'feedback_report.csv'\")"
   ]
  },
  {
   "cell_type": "code",
   "execution_count": 2,
   "id": "103b59d8",
   "metadata": {},
   "outputs": [],
   "source": [
    "data=pd.read_csv('feedback_report.csv')"
   ]
  },
  {
   "cell_type": "code",
   "execution_count": 3,
   "id": "d1f49068",
   "metadata": {},
   "outputs": [
    {
     "data": {
      "text/html": [
       "<div>\n",
       "<style scoped>\n",
       "    .dataframe tbody tr th:only-of-type {\n",
       "        vertical-align: middle;\n",
       "    }\n",
       "\n",
       "    .dataframe tbody tr th {\n",
       "        vertical-align: top;\n",
       "    }\n",
       "\n",
       "    .dataframe thead th {\n",
       "        text-align: right;\n",
       "    }\n",
       "</style>\n",
       "<table border=\"1\" class=\"dataframe\">\n",
       "  <thead>\n",
       "    <tr style=\"text-align: right;\">\n",
       "      <th></th>\n",
       "      <th>customer</th>\n",
       "      <th>feedback</th>\n",
       "      <th>sentiment_score</th>\n",
       "      <th>category</th>\n",
       "    </tr>\n",
       "  </thead>\n",
       "  <tbody>\n",
       "    <tr>\n",
       "      <th>0</th>\n",
       "      <td>Abhijit</td>\n",
       "      <td>bad</td>\n",
       "      <td>-0.5423</td>\n",
       "      <td>Negative</td>\n",
       "    </tr>\n",
       "    <tr>\n",
       "      <th>1</th>\n",
       "      <td>inge</td>\n",
       "      <td>good</td>\n",
       "      <td>0.4404</td>\n",
       "      <td>Positive</td>\n",
       "    </tr>\n",
       "  </tbody>\n",
       "</table>\n",
       "</div>"
      ],
      "text/plain": [
       "  customer feedback  sentiment_score  category\n",
       "0  Abhijit      bad          -0.5423  Negative\n",
       "1     inge     good           0.4404  Positive"
      ]
     },
     "execution_count": 3,
     "metadata": {},
     "output_type": "execute_result"
    }
   ],
   "source": [
    "data"
   ]
  },
  {
   "cell_type": "code",
   "execution_count": null,
   "id": "5c7bca9e",
   "metadata": {},
   "outputs": [],
   "source": []
  }
 ],
 "metadata": {
  "kernelspec": {
   "display_name": "Python 3 (ipykernel)",
   "language": "python",
   "name": "python3"
  },
  "language_info": {
   "codemirror_mode": {
    "name": "ipython",
    "version": 3
   },
   "file_extension": ".py",
   "mimetype": "text/x-python",
   "name": "python",
   "nbconvert_exporter": "python",
   "pygments_lexer": "ipython3",
   "version": "3.11.3"
  }
 },
 "nbformat": 4,
 "nbformat_minor": 5
}
